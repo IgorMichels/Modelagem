{
 "cells": [
  {
   "cell_type": "markdown",
   "metadata": {},
   "source": [
    "# Elo Bidimensional aplicado ao Tênis"
   ]
  },
  {
   "cell_type": "markdown",
   "metadata": {},
   "source": [
    "Primeiro vamos rodar algumas definições de funções e import's"
   ]
  },
  {
   "cell_type": "code",
   "execution_count": 1,
   "metadata": {},
   "outputs": [],
   "source": [
    "%run data_functions.py\n",
    "%run model_functions.py"
   ]
  },
  {
   "cell_type": "markdown",
   "metadata": {},
   "source": [
    "Dentre as funções definidas acimas podemos ilustrar algumas mais básicas, como a que calcula a probabilidade de um jogador A vencer um jogador B no confronto entre eles e a que calcula a verossimilhança dos resultados de alguns confrontos dados os parâmetros dos jogadores."
   ]
  },
  {
   "cell_type": "code",
   "execution_count": 2,
   "metadata": {},
   "outputs": [
    {
     "name": "stdout",
     "output_type": "stream",
     "text": [
      "Entre player1 e player2 temos 0.2960820052793571 para vitória do player1\n",
      "Entre player2 e player3 temos 0.2960820052793571 para vitória do player2\n",
      "Entre player3 e player1 temos 0.2960820052793571 para vitória do player3\n",
      "Verossimilhança: 2.785331050711237\n"
     ]
    }
   ],
   "source": [
    "player1 = [   1,          0]\n",
    "player2 = [-0.5,  sqrt(3)/2]\n",
    "player3 = [-0.5, -sqrt(3)/2]\n",
    "\n",
    "print('Entre player1 e player2 temos', find_probability(player1, player2), 'para vitória do player1')\n",
    "print('Entre player2 e player3 temos', find_probability(player2, player3), 'para vitória do player2')\n",
    "print('Entre player3 e player1 temos', find_probability(player3, player1), 'para vitória do player3')\n",
    "\n",
    "results = [[0, 1], [1, 2], [2, 1]]\n",
    "players = [1, 0, -0.5, sqrt(3)/2, -0.5, -sqrt(3)/2]\n",
    "\n",
    "print('Verossimilhança:', likelihood(players, results))"
   ]
  },
  {
   "cell_type": "markdown",
   "metadata": {},
   "source": [
    "Agora podemos começar a trabalhar com os dados que temos em mãos. Para situar, temos os seguintes parâmetros:\n",
    "\n",
    "`path` é o caminho da pasta em que se encontram os arquivos de jogos de cada ano;\n",
    "`files` é uma lista com os os arquivos de jogos, junto do caminho;\n",
    "`rank` é o caminho do arquivo que contém o ranking atual;\n",
    "`top` é a quantidade de jogadores que iremos analisar.\n",
    "\n",
    "A função `catch_all_games` recebe os parâmetros acima e os parâmetros `surface` e `sets`, os quais foram definidos, por default, a 'Hard' e 3, respectivamente, retornando um dataframe com os jogos entre os `top` jogadores do ranking.\n",
    "\n",
    "Já a função `catch_data` recebe o dataframe anterior e retorna uma lista `players`, com parâmetros iniciais para os jogadores (parâmetros aleatórios para um palpite inicial na minimização da log-verossimilhança negativa), uma lista `results`, com os resultados dos jogos entre os jogadores, e uma lista `bounds`, com os limites de cada parâmetro para cada jogador, que no caso estão no intervalo $(0, \\infty)$ e $(-\\infty, \\infty)$, respectivamente."
   ]
  },
  {
   "cell_type": "code",
   "execution_count": 3,
   "metadata": {},
   "outputs": [],
   "source": [
    "path = '../tennis_atp/'\n",
    "files = [path + 'atp_matches_' + str(year) + '.csv' for year in range(2018, 2021)]\n",
    "rank = path + 'atp_rankings_current.csv'\n",
    "top = 50\n",
    "\n",
    "games = catch_all_games(files, rank, top)\n",
    "players, results, bounds = catch_data(games)"
   ]
  },
  {
   "cell_type": "markdown",
   "metadata": {},
   "source": [
    "Agora, usando os dados já coletados a gente minimiza os parâmetros."
   ]
  },
  {
   "cell_type": "code",
   "execution_count": 4,
   "metadata": {},
   "outputs": [
    {
     "data": {
      "text/plain": [
       "     fun: 405.88169749327767\n",
       "     jac: array([-1.36309433e+00, -7.73344040e+00,  6.41708374e-01, -3.32687378e-01,\n",
       "        1.98357475e+02,  3.51757374e+02, -5.11169434e-04, -2.70462036e-03,\n",
       "        2.52029419e-01, -1.18522644e-01,  4.61839981e+01, -3.19224319e+01,\n",
       "        1.26082687e+01, -5.72622299e+00,  5.58395386e-02,  7.82012939e-03,\n",
       "        1.28173828e-03, -1.67846680e-03, -1.97735596e+00, -3.51853943e+00,\n",
       "        8.31794968e+01,  3.03033180e+01, -1.41754150e-02, -2.40783691e-02,\n",
       "       -3.86870346e+01, -1.96842201e+02,  1.67491531e+00,  4.50398254e+00,\n",
       "        4.81664417e+02,  1.69928741e+00, -1.04914856e+00,  4.51007843e-01,\n",
       "        4.01744072e+02,  4.19037758e+02,  1.52854919e-02, -4.89044189e-03,\n",
       "        3.63197327e-02,  1.80576324e-01, -4.57294846e+00, -7.94198227e+00,\n",
       "        5.84019394e+01, -2.82061043e+01, -3.54686737e-01,  1.74655914e-01,\n",
       "       -3.52454876e+02,  1.95312347e+02,  2.71007538e+00,  3.60183716e-02,\n",
       "       -1.78192139e-01, -3.69758606e-01,  1.62767227e+02, -7.44430084e+01,\n",
       "        1.41384125e-01, -3.95312386e+01, -4.23034668e-01, -2.41913223e+00,\n",
       "        5.71422043e+01,  9.01858521e+00, -1.52587891e-04,  1.63269043e-03,\n",
       "        9.29943314e+01,  1.16407978e+02, -2.58014679e-01,  1.19635010e+00,\n",
       "        2.66418457e-02, -1.19628906e-02,  1.91322327e-01,  1.13525391e+00,\n",
       "        3.39848625e+02, -1.53111866e+02, -2.74440765e-01, -4.45240021e-01,\n",
       "        1.88827515e-03,  8.04138184e-03,  1.36333832e+02,  3.10517693e+01,\n",
       "        2.62702755e+02, -3.45492172e+00,  2.01416016e-03,  1.20697021e-02,\n",
       "        2.54058838e-02, -1.31530762e-02,  1.31607056e-01,  2.20672607e-01,\n",
       "        5.89123688e+01,  3.04629326e+01,  1.36753464e+00,  5.61317825e+00,\n",
       "        1.43781090e+01, -6.88779831e+00, -2.96020508e-02,  1.39808655e-02,\n",
       "        2.28881836e-05,  4.57763672e-05,  7.01915741e-01,  3.47789764e+00,\n",
       "       -3.77287292e+00, -1.62301979e+01, -4.60665512e+00, -2.20119324e+01])\n",
       " message: 'Optimization terminated successfully.'\n",
       "    nfev: 33992\n",
       "     nit: 329\n",
       "    njev: 329\n",
       "  status: 0\n",
       " success: True\n",
       "       x: array([ 1.05048639e+00, -1.88157238e-01,  2.87949016e-01,  4.51915618e-01,\n",
       "        7.53339192e-02, -4.18016458e-02,  1.20942222e+03, -7.55119877e+02,\n",
       "        1.47290586e+01,  3.16832474e+01,  1.59110114e-03, -2.89965642e-03,\n",
       "        5.40360952e-02,  1.02821808e-01,  2.83469516e-01, -1.52729701e+00,\n",
       "        3.69596269e+01, -2.87352567e+02,  3.12947952e+00, -1.74978192e+00,\n",
       "        2.49126516e-03,  1.72698314e-03,  1.11184306e+03, -6.25041073e+02,\n",
       "        1.57150739e-03, -1.97764320e-03,  4.77683186e-01, -8.93080748e-02,\n",
       "        3.05095940e-10,  3.05242270e-03,  1.48779289e+00,  3.11925058e+00,\n",
       "        1.94647898e-03, -7.78736457e-05,  2.04851812e-04, -1.16681353e+02,\n",
       "        1.72076984e+02, -3.23168941e+01,  1.16923137e-01, -7.75170661e-02,\n",
       "        3.13930780e-02,  6.38027733e-02,  5.43174487e+01,  1.14731093e+02,\n",
       "        2.94752657e-03,  8.60554149e-03,  2.15145952e-03, -1.41163199e-01,\n",
       "        2.83343886e+00, -1.57513724e-01,  1.32417294e-02,  2.73933681e-02,\n",
       "        9.30377557e-03, -5.72461558e-03,  4.53024696e+01, -8.56452068e+00,\n",
       "        3.41912881e-03,  4.23998997e-03,  1.41217278e+03, -2.91508522e+02,\n",
       "        4.58891356e-03, -2.18520177e-03,  9.14274835e-02, -1.01144754e-01,\n",
       "        2.66382339e+02,  5.58855548e+02,  5.71831783e+01, -1.06777577e+01,\n",
       "        9.39329835e-03,  1.76664011e-02,  6.36249112e-01, -4.44416020e-01,\n",
       "        1.09165197e+03, -2.12601768e+02,  7.19033340e-11,  5.65303107e-05,\n",
       "        1.76964467e-10,  6.31515866e-04,  2.91126852e+02, -4.91870172e+01,\n",
       "        3.30331073e+02,  6.93027437e+02,  5.44979190e+01, -3.13108262e+01,\n",
       "        5.07739558e-03,  1.81161564e-03,  4.07223636e-01, -6.22550181e-02,\n",
       "        1.26838039e+00,  2.66267064e+00,  7.45167254e+02,  1.59651801e+03,\n",
       "        1.99490886e+01, -1.00180519e+03,  2.37840160e+00, -4.32005163e-01,\n",
       "        8.27159516e-03,  3.45153468e-03,  4.58251475e-02, -1.52332955e-02])"
      ]
     },
     "execution_count": 4,
     "metadata": {},
     "output_type": "execute_result"
    }
   ],
   "source": [
    "optimal_parameter = minimize(likelihood,\n",
    "                             players,\n",
    "                             args = results,\n",
    "                             method = 'SLSQP',\n",
    "                             bounds = bounds,\n",
    "                             options = {'maxiter' : 10000})\n",
    "\n",
    "optimal_parameter"
   ]
  }
 ],
 "metadata": {
  "kernelspec": {
   "display_name": "Python 3",
   "language": "python",
   "name": "python3"
  },
  "language_info": {
   "codemirror_mode": {
    "name": "ipython",
    "version": 3
   },
   "file_extension": ".py",
   "mimetype": "text/x-python",
   "name": "python",
   "nbconvert_exporter": "python",
   "pygments_lexer": "ipython3",
   "version": "3.7.3"
  }
 },
 "nbformat": 4,
 "nbformat_minor": 2
}
