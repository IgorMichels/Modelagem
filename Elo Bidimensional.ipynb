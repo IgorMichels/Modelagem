{
 "cells": [
  {
   "cell_type": "markdown",
   "metadata": {},
   "source": [
    "# Elo Bidimensional aplicado ao Tênis"
   ]
  },
  {
   "cell_type": "markdown",
   "metadata": {},
   "source": [
    "Primeiro vamos rodar algumas definições de funções e import's"
   ]
  },
  {
   "cell_type": "code",
   "execution_count": 1,
   "metadata": {},
   "outputs": [],
   "source": [
    "%run data_functions.py\n",
    "%run model_functions.py"
   ]
  },
  {
   "cell_type": "markdown",
   "metadata": {},
   "source": [
    "Dentre as funções definidas acimas podemos ilustrar algumas mais básicas, como a que calcula a probabilidade de um jogador A vencer um jogador B no confronto entre eles e a que calcula a verossimilhança dos resultados de alguns confrontos dados os parâmetros dos jogadores."
   ]
  },
  {
   "cell_type": "code",
   "execution_count": 2,
   "metadata": {},
   "outputs": [
    {
     "name": "stdout",
     "output_type": "stream",
     "text": [
      "Entre player1 e player2 temos 0.2960820052793571 para vitória do player1\n",
      "Entre player2 e player3 temos 0.2960820052793571 para vitória do player2\n",
      "Entre player3 e player1 temos 0.2960820052793571 para vitória do player3\n",
      "Verossimilhança: 2.785331050711237\n"
     ]
    }
   ],
   "source": [
    "player1 = [   1,          0]\n",
    "player2 = [-0.5,  sqrt(3)/2]\n",
    "player3 = [-0.5, -sqrt(3)/2]\n",
    "\n",
    "print('Entre player1 e player2 temos', find_probability(player1, player2), 'para vitória do player1')\n",
    "print('Entre player2 e player3 temos', find_probability(player2, player3), 'para vitória do player2')\n",
    "print('Entre player3 e player1 temos', find_probability(player3, player1), 'para vitória do player3')\n",
    "\n",
    "results = [[0, 1], [1, 2], [2, 1]]\n",
    "players = [1, 0, -0.5, sqrt(3)/2, -0.5, -sqrt(3)/2]\n",
    "\n",
    "print('Verossimilhança:', likelihood(players, results))"
   ]
  },
  {
   "cell_type": "markdown",
   "metadata": {},
   "source": [
    "Agora podemos começar a trabalhar com os dados que temos em mãos. Para situar, temos os seguintes parâmetros:\n",
    "\n",
    "`path` é o caminho da pasta em que se encontram os arquivos de jogos de cada ano;\n",
    "`files` é uma lista com os os arquivos de jogos, junto do caminho;\n",
    "`rank` é o caminho do arquivo que contém o ranking atual;\n",
    "`top` é a quantidade de jogadores que iremos analisar.\n",
    "\n",
    "A função `catch_all_games` recebe os parâmetros acima e os parâmetros `surface` e `sets`, os quais foram definidos, por default, a 'Hard' e 3, respectivamente, retornando um dataframe com os jogos entre os `top` jogadores do ranking.\n",
    "\n",
    "Já a função `catch_data` recebe o dataframe anterior e retorna uma lista `players_id`, onde cada elemento é a ID original do jogador, a qual foi substituida por seu índice dessa lista, uma outra lista `players`, com parâmetros iniciais para os jogadores (parâmetros aleatórios para um palpite inicial na minimização da log-verossimilhança negativa), uma lista `results` com os resultados dos jogos entre os jogadores, uma lista `bounds` com os limites de cada parâmetro para cada jogador, que no caso estão no intervalo $(0, \\infty)$ e $(-\\infty, \\infty)$, respectivamente e, por fim, uma amostra dos dados, a qual se refere a porção dos dados utilizadas como treino do modelo."
   ]
  },
  {
   "cell_type": "code",
   "execution_count": 3,
   "metadata": {},
   "outputs": [
    {
     "name": "stderr",
     "output_type": "stream",
     "text": [
      "C:\\Users\\igorm\\Anaconda3\\lib\\site-packages\\pandas\\core\\frame.py:3940: SettingWithCopyWarning: \n",
      "A value is trying to be set on a copy of a slice from a DataFrame\n",
      "\n",
      "See the caveats in the documentation: http://pandas.pydata.org/pandas-docs/stable/indexing.html#indexing-view-versus-copy\n",
      "  errors=errors)\n"
     ]
    }
   ],
   "source": [
    "path = '../tennis_atp/'\n",
    "files = [path + 'atp_matches_' + str(year) + '.csv' for year in range(2018, 2021)]\n",
    "rank = path + 'atp_rankings_current.csv'\n",
    "top = 100\n",
    "\n",
    "games = catch_all_games(files, rank, top)\n",
    "players_id, players, results, bounds, games = catch_data(games, True)"
   ]
  },
  {
   "cell_type": "markdown",
   "metadata": {},
   "source": [
    "Agora, usando os dados já coletados a gente minimiza os parâmetros."
   ]
  },
  {
   "cell_type": "code",
   "execution_count": 4,
   "metadata": {},
   "outputs": [
    {
     "data": {
      "text/plain": [
       "     fun: 389.1246097127591\n",
       "     jac: array([-2.40211487e-02,  7.34977722e-02,  9.28840637e-02, -2.91343689e-01,\n",
       "       -3.40797806e+00,  9.20024872e-01, -2.61209755e+01,  5.80055237e+00,\n",
       "       -3.48991394e-01,  1.44879532e+00, -1.20889549e+01,  6.57728577e+00,\n",
       "        1.05922699e-01, -4.04174805e-01,  5.01776695e+01, -7.34391785e+00,\n",
       "       -2.00928841e+01,  3.15757332e+01,  2.11724930e+01,  1.34762955e+00,\n",
       "        4.98594818e+01,  6.90400658e+01,  1.73568726e-02,  2.78320312e-02,\n",
       "       -6.85118103e+00,  2.56243324e+01,  2.13943481e-01, -8.12240601e-01,\n",
       "        4.78446350e+01,  2.17388153e+00, -9.53674316e-05,  3.96728516e-04,\n",
       "       -1.75346375e-01,  4.68139648e-02,  2.76486244e+01, -5.26610909e+01,\n",
       "        5.12725830e+00, -1.02999115e+00,  7.42174149e+01, -1.91141510e+00,\n",
       "       -4.44275284e+00,  6.91143036e-01,  5.58242798e-02, -3.27301025e-03,\n",
       "       -4.20795441e-01,  1.87480545e+00,  2.64257050e+00, -1.00920868e+01,\n",
       "       -1.86653137e-02,  6.79512024e-02,  0.00000000e+00,  0.00000000e+00,\n",
       "        6.81768379e+01, -5.22394600e+01, -6.88099670e+00, -5.18449783e+00,\n",
       "       -1.20760918e+01,  4.90479469e+01, -4.00123596e-02, -5.69496155e-02,\n",
       "       -4.57763672e-05,  1.79290771e-04,  1.09370041e+00, -4.09210205e+00,\n",
       "       -2.92622375e+00,  1.11626511e+01,  3.36632156e+00, -1.10863495e+00,\n",
       "        1.67612076e+00, -6.21588135e+00, -1.97428322e+01, -2.31980515e+00,\n",
       "        1.76200867e-02, -1.27410889e-03,  2.83470154e-01, -2.00347900e-02,\n",
       "        1.05667114e-03, -4.27246094e-03, -2.27012634e-02, -8.60519409e-02,\n",
       "       -6.68434143e-01,  1.18595123e-01, -3.58963013e-02,  5.53928375e-01,\n",
       "        6.96609497e-01, -2.74932861e+00, -1.42974319e+01,  5.49038010e+01,\n",
       "       -1.34641647e+00,  1.34217867e+08,  2.68764496e-01,  4.09553528e-01,\n",
       "        1.52794533e+01, -8.59294891e-01, -1.29127502e+00,  4.83064270e+00,\n",
       "        9.08695221e-01, -1.49562836e-01,  2.67652512e+00,  1.05887489e+01,\n",
       "        0.00000000e+00,  0.00000000e+00, -8.57934952e+00,  3.23311043e+01,\n",
       "        5.81607819e-01, -4.84352112e-01,  1.28604126e+00,  1.90088654e+00,\n",
       "       -1.72603874e+01,  7.03064308e+01,  2.42968369e+00, -1.25035210e+01,\n",
       "       -1.30646736e+02,  2.18203049e+01,  2.19860077e-01, -8.08162689e-01,\n",
       "       -1.60102844e-02,  2.18429565e-02,  1.31402588e+00, -4.52490234e+00,\n",
       "        2.70476151e+00, -7.96436310e-01,  1.76048279e-01, -1.10340118e-01,\n",
       "        4.13776398e-01, -7.16514587e-02,  3.19721222e-01, -1.18519592e+00,\n",
       "       -3.75153351e+00,  1.49331017e+01,  3.12973785e+00, -1.17925987e+01,\n",
       "        1.17467346e+01, -3.57401695e+01,  3.71658325e-01, -9.53495026e-01,\n",
       "        1.32049561e-01, -5.39382935e-01, -1.43013000e-02,  5.51452637e-02,\n",
       "        1.13296509e-03, -4.67300415e-03, -2.19478607e-01,  4.57153320e-02,\n",
       "       -4.63737488e-01, -3.37142944e-01,  6.27591705e+00, -1.13908386e+00,\n",
       "        0.00000000e+00,  0.00000000e+00,  0.00000000e+00,  0.00000000e+00,\n",
       "        7.35713959e-01, -1.20979309e-01,  8.12530518e-04, -1.24740601e-03,\n",
       "       -6.79016113e-04,  1.14440918e-04,  9.72246933e+00, -3.44975662e+00,\n",
       "       -2.74658203e-04, -6.71386719e-04,  1.03759766e-03,  1.56021118e-03,\n",
       "        5.21202087e-02,  4.41741943e-03,  3.04110374e+01, -8.83293152e-01,\n",
       "       -7.82012939e-04, -5.83648682e-04, -2.32129669e+00, -2.45590210e-01,\n",
       "        7.82966614e-02, -3.99250031e-01, -4.42085266e-02,  1.86565399e-01,\n",
       "        0.00000000e+00,  0.00000000e+00, -1.36745453e-01,  5.08846283e-01,\n",
       "        0.00000000e+00,  0.00000000e+00,  0.00000000e+00,  0.00000000e+00,\n",
       "        6.60898209e+01,  0.00000000e+00,  8.74990158e+01,  0.00000000e+00,\n",
       "        0.00000000e+00,  0.00000000e+00,  0.00000000e+00,  0.00000000e+00,\n",
       "        0.00000000e+00,  0.00000000e+00,  0.00000000e+00,  0.00000000e+00,\n",
       "        0.00000000e+00,  0.00000000e+00,  0.00000000e+00,  0.00000000e+00])\n",
       " message: 'Optimization terminated successfully.'\n",
       "    nfev: 41162\n",
       "     nit: 202\n",
       "    njev: 202\n",
       "  status: 0\n",
       " success: True\n",
       "       x: array([ 5.23878854e+02,  1.48905034e+02,  2.77071486e-01,  6.58378864e-02,\n",
       "        2.22899952e-02,  1.02273354e-01,  9.44057613e-03,  3.75993788e-02,\n",
       "        2.81512390e+01,  7.83995549e+00,  1.61569702e-02,  2.55407497e-02,\n",
       "        3.78642020e+02,  9.95637810e+01,  8.03399407e-07,  2.54977276e-02,\n",
       "        9.19743216e-04,  5.21030005e-03,  1.39034204e-06, -2.32845313e-02,\n",
       "        7.80465076e-02, -5.28928145e-02,  4.01184186e+02, -2.79611647e+02,\n",
       "        4.46902318e+00,  1.19722899e+00,  1.87980104e+02,  4.99862013e+01,\n",
       "        6.83985467e-07, -6.92627309e-02,  2.14621414e+00, -3.44015889e+02,\n",
       "        9.42836804e+00,  5.76309646e+01,  8.90404475e-03,  2.15073385e-03,\n",
       "        4.69003041e-02,  2.19602285e-01,  2.81889853e-07, -7.20170352e-03,\n",
       "        7.01961259e-02,  4.19256331e-01,  1.50027763e-01, -1.14736674e+02,\n",
       "        4.22191002e-02,  2.35029219e-02,  1.26689664e+01,  3.35038700e+00,\n",
       "        4.22195890e+02,  1.11142085e+02,  4.37977457e-02, -3.17935827e+02,\n",
       "        2.05375857e-03, -1.92056846e-03,  2.43461018e-02, -9.95459551e-03,\n",
       "        1.19559504e-02,  6.06802082e-03,  3.94094221e+02, -2.69129501e+02,\n",
       "        2.67289223e-01, -4.36129320e+02,  8.89930283e-01,  2.44705662e-01,\n",
       "        4.12814790e+00,  1.07793277e+00,  2.25428018e-02,  1.13139934e-01,\n",
       "        1.05880340e+01,  2.79118436e+00,  8.14339850e-03,  1.83995758e-02,\n",
       "        4.62765177e-03, -1.02068393e+02,  4.71059594e-07, -6.46029442e+00,\n",
       "        8.69826665e+01, -1.04700577e+00,  1.26547396e+00, -4.82794899e+00,\n",
       "        1.80657288e+01,  1.10474288e+02,  1.04206200e-01,  3.95721163e-02,\n",
       "        2.62898046e+01,  6.76571556e+00,  5.69884042e-02,  1.36476779e-02,\n",
       "        9.41757029e+00,  2.53634225e+00,  1.58741663e+01, -1.14056143e+01,\n",
       "        1.01040498e-06, -1.15300126e-01,  6.32990147e+01,  1.67837333e+01,\n",
       "        8.89749376e-04,  6.80210601e-01,  5.12295801e-03, -3.40895182e-03,\n",
       "        1.91059423e-01, -2.70005684e+02,  4.22884087e+00,  1.12079437e+00,\n",
       "        1.67762769e-01, -8.73354859e-02,  3.02541602e-07, -5.15662471e-02,\n",
       "        7.75425209e-02,  2.34120327e-02,  1.41896875e-01,  4.13169903e-02,\n",
       "        3.15951675e-01,  1.87958756e+00,  2.79845006e+02,  7.53543074e+01,\n",
       "        7.16368880e+00,  4.66234781e+01,  2.96758337e-01,  7.54164541e-02,\n",
       "        2.07522465e-03, -1.85320607e-02,  1.05803960e+00, -6.86604203e-01,\n",
       "        9.82261418e+01,  5.85628910e+02,  4.41881083e+01,  1.17180998e+01,\n",
       "        3.36815317e+00,  8.78526553e-01,  7.60319032e+00,  1.99518529e+00,\n",
       "        4.53806882e-08,  3.78099012e-03,  1.64117861e+00,  4.41431926e-01,\n",
       "        1.60263961e+01,  4.13377044e+00,  2.13936733e+02,  5.48602048e+01,\n",
       "        1.82590951e-02, -1.14039054e+01,  2.00142192e-01,  1.27148238e+00,\n",
       "        4.44793808e-01, -3.12111587e-01,  4.57723010e-07,  1.22487193e-02,\n",
       "        2.26568217e+02, -1.66789571e+02,  1.53244582e+02, -2.00673499e+02,\n",
       "        2.37515106e+01,  1.45390391e+02,  8.73677462e+01,  5.25694696e+02,\n",
       "        3.49872060e+02, -9.21923973e+01,  1.64693472e-06, -4.51808732e-03,\n",
       "        3.03998283e+02,  2.21978741e+01,  1.09783011e+01, -1.69054600e+02,\n",
       "        2.65580093e+01, -2.70443717e+02,  9.48741282e-07, -2.09788339e-02,\n",
       "        4.02300491e+02, -4.22486644e+01,  5.65138961e-01, -5.57695861e+00,\n",
       "        8.15921095e+00,  2.11560724e+00,  1.94642262e+02,  4.99397598e+01,\n",
       "        1.48903929e-02, -1.95760859e+02,  1.89382414e+02,  5.00905246e+01,\n",
       "        1.50488330e+02, -1.15633231e+02,  5.85618570e+01, -5.50902658e+01,\n",
       "        6.82829556e-07, -1.74973461e+02,  1.08202988e-06,  1.32161103e+02,\n",
       "        8.97109273e+01, -1.60631518e+02,  7.75704642e+01,  1.76892352e+02,\n",
       "        8.65812826e-01,  1.17353827e-01,  6.56375174e-03,  3.70093558e-01,\n",
       "        5.82050413e-01,  9.33530684e-01,  6.62000310e-01,  6.97617615e-01])"
      ]
     },
     "execution_count": 4,
     "metadata": {},
     "output_type": "execute_result"
    }
   ],
   "source": [
    "optimal_parameter = minimize(likelihood,\n",
    "                             players,\n",
    "                             args = results,\n",
    "                             method = 'SLSQP',\n",
    "                             bounds = bounds,\n",
    "                             options = {'maxiter' : 10000})\n",
    "\n",
    "optimal_parameter"
   ]
  },
  {
   "cell_type": "markdown",
   "metadata": {},
   "source": [
    "Tendo encontrado os parâmetros que minimizam a log-verossimilhança negativa para os jogos de treino, podemos ver os resultados para os jogos de testagem:"
   ]
  },
  {
   "cell_type": "code",
   "execution_count": 5,
   "metadata": {},
   "outputs": [
    {
     "data": {
      "text/plain": [
       "177.99720760487273"
      ]
     },
     "execution_count": 5,
     "metadata": {},
     "output_type": "execute_result"
    }
   ],
   "source": [
    "players = []\n",
    "for i in range(int(len(optimal_parameter.x)/2)):\n",
    "    players.append([optimal_parameter.x[2*i], optimal_parameter.x[2*i + 1]])\n",
    "\n",
    "results_test, games_test = catch_data(games, False)\n",
    "likelihood(players, results_test)"
   ]
  },
  {
   "cell_type": "markdown",
   "metadata": {},
   "source": [
    "Note que a log-verossimilhança negativa para os jogos de teste é inferior que para os dados de treino, o que pode nos levar a inferir que nosso modelo está no caminho certo"
   ]
  },
  {
   "cell_type": "code",
   "execution_count": 6,
   "metadata": {},
   "outputs": [
    {
     "data": {
      "text/plain": [
       "389.1246097127591"
      ]
     },
     "execution_count": 6,
     "metadata": {},
     "output_type": "execute_result"
    }
   ],
   "source": [
    "optimal_parameter.fun"
   ]
  }
 ],
 "metadata": {
  "kernelspec": {
   "display_name": "Python 3",
   "language": "python",
   "name": "python3"
  },
  "language_info": {
   "codemirror_mode": {
    "name": "ipython",
    "version": 3
   },
   "file_extension": ".py",
   "mimetype": "text/x-python",
   "name": "python",
   "nbconvert_exporter": "python",
   "pygments_lexer": "ipython3",
   "version": "3.7.3"
  }
 },
 "nbformat": 4,
 "nbformat_minor": 2
}
