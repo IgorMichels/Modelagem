{
 "cells": [
  {
   "cell_type": "markdown",
   "metadata": {},
   "source": [
    "Esse notebook trás funções que buscam fazer a estimativa da proficiência do tipo $v = [v_1, ~v_2]$ para jogadores de tênis, bem como executar o cálculo da probabilidade de um atleta de proficiência $v = [v_1, ~v_2]$ ganhar de um atleta com proficiência $u = [u_1, ~u_2]$."
   ]
  },
  {
   "cell_type": "markdown",
   "metadata": {},
   "source": [
    "Abaixo temos o desenvolvimento das funções que calculam as propabilidades, onde $P(A\\mbox{ ganhar de }B) = \\dfrac{1}{1 + \\exp(-logit)}$, onde $logit = \\dfrac{v_2}{u_1} - \\dfrac{u_2}{v_1}$, além do desenvolvimento da função que calcula o log da verossimilhança negativa, dessa teremos valores positivos, uma vez que o log de cada termo do produtório é negativo, e buscaremos minimizar esse valor."
   ]
  },
  {
   "cell_type": "code",
   "execution_count": 1,
   "metadata": {},
   "outputs": [],
   "source": [
    "import math\n",
    "\n",
    "def calcula_prob(v, u):\n",
    "    # calcula a probabilidade de acordo com a ideia do logit\n",
    "    # recebe dois vetores v = [v1, v2] e u = [u1, u2]\n",
    "    # retorna um vetor p = [p1, p2] com a prob do jogador 1 ganhar do 2 e do 2 ganhar do 1\n",
    "    logit = v[1]/u[0] - u[1]/v[0]\n",
    "    p = [0, 0]\n",
    "    p[0] = 1/(1 + math.exp(-logit))\n",
    "    p[1] = 1 - p[0]\n",
    "    \n",
    "    return p\n",
    "\n",
    "def verossimilhanca(resultados, jogadores):\n",
    "    # faz o cálculo da verossimilhança negativa dado como entrada uma lista\n",
    "    # de resultados e uma lista de parâmetros, conforme abaixo\n",
    "    \n",
    "    # resultados é uma lista de lista/matriz n x 2, onde cada lista/linha\n",
    "    # representa um jogo, sendo da forma [ID_w, ID_l]\n",
    "    # parâmetros é a lista de parâmetros dos jogadores, assim parâmetros[0]\n",
    "    # contém os parâmetros do jogador de ID = 0\n",
    "    \n",
    "    log_ver = 0\n",
    "    p = [0, 0]\n",
    "    \n",
    "    for i in range(len(resultados)):\n",
    "        p = calcula_prob(jogadores[resultados[i][0]], jogadores[resultados[i][1]])\n",
    "        log_ver += math.log(p[0])\n",
    "    \n",
    "    return - log_ver"
   ]
  },
  {
   "cell_type": "markdown",
   "metadata": {},
   "source": [
    "Definida as funções, abaixo temos um pequeno teste para ver como a função que calcula as probabilidades está funcionando:"
   ]
  },
  {
   "cell_type": "code",
   "execution_count": 2,
   "metadata": {},
   "outputs": [
    {
     "name": "stdout",
     "output_type": "stream",
     "text": [
      "Jogo entre P1 e P2: [0.2960820052793571, 0.7039179947206429]\n",
      "Jogo entre P2 e P3: [0.030351090329424395, 0.9696489096705756]\n",
      "Jogo entre P3 e P1: [0.2960820052793571, 0.7039179947206429]\n"
     ]
    }
   ],
   "source": [
    "P1 = [   1,               0]\n",
    "P2 = [-0.5,  math.sqrt(3)/2]\n",
    "P3 = [-0.5, -math.sqrt(3)/2]\n",
    "\n",
    "print(\"Jogo entre P1 e P2:\", calcula_prob(P1, P2))\n",
    "print(\"Jogo entre P2 e P3:\", calcula_prob(P2, P3))\n",
    "print(\"Jogo entre P3 e P1:\", calcula_prob(P3, P1))"
   ]
  },
  {
   "cell_type": "markdown",
   "metadata": {},
   "source": [
    "Estranhei o fato de que na abordagem anterior, vista abaixo, esses 3 vetores geravam probabilidades iguais para esses jogos, ou seja, tínhamos $P(P_1\\mbox{ vencer }P_2) = (P_2\\mbox{ vencer }P_3) = (P_3\\mbox{ vencer }P_1)$, o que agora difere."
   ]
  },
  {
   "cell_type": "markdown",
   "metadata": {},
   "source": [
    "Abaixo temos um teste da função que calcula o log da verossimilhança negativa:"
   ]
  },
  {
   "cell_type": "code",
   "execution_count": 3,
   "metadata": {},
   "outputs": [
    {
     "data": {
      "text/plain": [
       "5.959981695062614"
      ]
     },
     "execution_count": 3,
     "metadata": {},
     "output_type": "execute_result"
    }
   ],
   "source": [
    "resultados = [[0, 1], [1, 2], [2, 0], [2, 1]]\n",
    "jogadores = [P1, P2, P3]\n",
    "\n",
    "verossimilhanca(resultados, jogadores)"
   ]
  },
  {
   "cell_type": "markdown",
   "metadata": {},
   "source": [
    "O primeiro elemento da lista de resultados indica que o jogador 0 (P1), ganhou do jogador 1 (P2). O mesmo sendo válido aos demais elementos dessa lista."
   ]
  },
  {
   "cell_type": "markdown",
   "metadata": {},
   "source": [
    "## Testes anteriores\n",
    "\n",
    "Abaixo temos as funções elaboradas para calcular a probabilidade e, dada tal probabilidade, calcular os pares u e v de proficiência dos atletas. Por enquanto, funciona apenas para o caso em que temos dois atletas."
   ]
  },
  {
   "cell_type": "code",
   "execution_count": null,
   "metadata": {},
   "outputs": [],
   "source": [
    "import math\n",
    "\n",
    "def calcula_prob(v, u):\n",
    "    # recebe dois vetores v = [v1, v2] e u = [u1, u2]\n",
    "    # retorna um vetor p = [p1, p2] com a prob do jogador 1 ganhar do 2 e do 2 ganhar do 1\n",
    "    p = [0, 0]\n",
    "    p[0] = math.exp(u[0]*v[1])/(math.exp(u[0]*v[1]) + math.exp(u[1]*v[0]))\n",
    "    p[1] = 1 - p[0]\n",
    "    \n",
    "    return p\n",
    "\n",
    "def gera_parametro(p):\n",
    "    # p = [p0, p1], onde p0 = x/(x + y) e p1 = y/(x + y), com x = e^(u0*v1) e y = e^(v0*u1)\n",
    "    # queremos encontrar v = [v0, v1] e u = [u0, u1]\n",
    "    x = math.log(p[0]) # faz x = ln(x) - ln(x + y) = ln(x) = u0*v1\n",
    "    y = math.log(p[1]) # faz y = ln(y) - ln(x + y) = ln(y) = v0*u1\n",
    "    \n",
    "    # considerando u0 = 1 = v0, temos que \n",
    "    u = [1, x]\n",
    "    v = [1, y]\n",
    "    \n",
    "    '''\n",
    "    tentativa de normalizar\n",
    "    \n",
    "    v = [1/math.sqrt(1 + x**2), x/math.sqrt(1 + x**2)]\n",
    "    u = [1/math.sqrt(1 + y**2), y/math.sqrt(1 + y**2)]\n",
    "    '''\n",
    "    \n",
    "    return [u, v]"
   ]
  },
  {
   "cell_type": "markdown",
   "metadata": {},
   "source": [
    "Abaixo definimos 3 proficiências com vetores que formam ângulos de $120^{\\circ}$ entre si. Note que a probabilidade de $v_2$ ganhar de $v_1$ é maior que a de $v_2$ perder para o mesmo. Além disso, a probabilidade de $v_3$ ganhar de $v_2$ é maior que a $v_3$ perder, mas a probabilidade de $v_3$ perder para $v_1$ é maior que a de ganhar de $v_1$, assim, não há linearidade no modelo."
   ]
  },
  {
   "cell_type": "code",
   "execution_count": null,
   "metadata": {},
   "outputs": [],
   "source": [
    "v1 = [   1,               0]\n",
    "v2 = [-0.5,  math.sqrt(3)/2]\n",
    "v3 = [-0.5, -math.sqrt(3)/2]\n",
    "\n",
    "print(\"Jogo entre v1 e v2:\", calcula_prob(v1, v2))\n",
    "print(\"Jogo entre v2 e v3:\", calcula_prob(v2, v3))\n",
    "print(\"Jogo entre v3 e v1:\", calcula_prob(v3, v1))"
   ]
  },
  {
   "cell_type": "markdown",
   "metadata": {},
   "source": [
    "Abaixo temos o cálculo da probabilidade com as proficiências $v_1$ e $v_2$, em seguida, tomamos o vetor de probabilidades e calculamos os parâmetros, os quais diferem dos valores iniciais ($v_1$ e $v_2$), mas que, como podemos ver em seguida, geram as mesmas probabilidades."
   ]
  },
  {
   "cell_type": "code",
   "execution_count": null,
   "metadata": {},
   "outputs": [],
   "source": [
    "p = calcula_prob(v1, v2)\n",
    "param = gera_parametro(p)\n",
    "q = calcula_prob(param[0], param[1])\n",
    "print(\"Probabilidades com p:\", p)\n",
    "print(\"Parâmetros:\", param)\n",
    "print(\"Probabilidades os parâmetros encontrados:\", q)"
   ]
  },
  {
   "cell_type": "markdown",
   "metadata": {},
   "source": [
    "Agora a ideia é buscar fazer a mesma estimação dos parâmetros, mas dando como entrada alguns pares ordenados que representam as probabilidades (ou uma estimativa das mesmas) e com isso gerar os parâmetros."
   ]
  },
  {
   "cell_type": "code",
   "execution_count": null,
   "metadata": {},
   "outputs": [],
   "source": []
  }
 ],
 "metadata": {
  "kernelspec": {
   "display_name": "Python 3",
   "language": "python",
   "name": "python3"
  },
  "language_info": {
   "codemirror_mode": {
    "name": "ipython",
    "version": 3
   },
   "file_extension": ".py",
   "mimetype": "text/x-python",
   "name": "python",
   "nbconvert_exporter": "python",
   "pygments_lexer": "ipython3",
   "version": "3.7.3"
  }
 },
 "nbformat": 4,
 "nbformat_minor": 2
}
