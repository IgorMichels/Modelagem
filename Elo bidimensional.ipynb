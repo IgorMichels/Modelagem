{
 "cells": [
  {
   "cell_type": "markdown",
   "metadata": {},
   "source": [
    "Esse notebook trás funções que buscam fazer a estimativa da proficiência do tipo $v = [v_1, ~v_2]$ para jogadores de tênis, bem como executar o cálculo da probabilidade de um atleta de proficiência $v = [v_1, ~v_2]$ ganhar de um atleta com proficiência $u = [u_1, ~u_2]$.\n",
    "\n",
    "Abaixo temos as funções elaboradas para calcular a probabilidade e, dada tal probabilidade, calcular os pares u e v de proficiência dos atletas. Abaixo funciona apenas para o caso em que temos dois atletas."
   ]
  },
  {
   "cell_type": "code",
   "execution_count": 1,
   "metadata": {},
   "outputs": [],
   "source": [
    "import math\n",
    "\n",
    "def calcula_prob(v, u):\n",
    "    # recebe dois vetores v = [v1, v2] e u = [u1, u2]\n",
    "    # retorna um vetor p = [p1, p2] com a prob do jogador 1 ganhar do 2 e do 2 ganhar do 1\n",
    "    p = [0, 0]\n",
    "    p[0] = math.exp(u[0]*v[1])/(math.exp(u[0]*v[1]) + math.exp(u[1]*v[0]))\n",
    "    p[1] = 1 - p[0]\n",
    "    \n",
    "    return p\n",
    "\n",
    "def gera_parametro(p):\n",
    "    # p = [p0, p1], onde p0 = x/(x + y) e p1 = y/(x + y), com x = e^(u0*v1) e y = e^(v0*u1)\n",
    "    # queremos encontrar v = [v0, v1] e u = [u0, u1]\n",
    "    x = math.log(p[0]) # faz x = ln(x) - ln(x + y) = ln(x) = u0*v1\n",
    "    y = math.log(p[1]) # faz y = ln(y) - ln(x + y) = ln(y) = v0*u1\n",
    "    \n",
    "    # considerando u0 = 1 = v0, temos que \n",
    "    u = [1, x]\n",
    "    v = [1, y]\n",
    "    \n",
    "    '''\n",
    "    tentativa de normalizar\n",
    "    \n",
    "    v = [1/math.sqrt(1 + x**2), x/math.sqrt(1 + x**2)]\n",
    "    u = [1/math.sqrt(1 + y**2), y/math.sqrt(1 + y**2)]\n",
    "    '''\n",
    "    \n",
    "    return [u, v]"
   ]
  },
  {
   "cell_type": "markdown",
   "metadata": {},
   "source": [
    "Abaixo definimos 3 proficiências com vetores que formam ângulos de $120^{\\circ}$ entre si. Note que a probabilidade de $v_2$ ganhar de $v_1$ é maior que a de $v_2$ perder para o mesmo. Além disso, a probabilidade de $v_3$ ganhar de $v_2$ é maior que a $v_3$ perder, mas a probabilidade de $v_3$ perder para $v_1$ é maior que a de ganhar de $v_1$, assim, não há linearidade no modelo."
   ]
  },
  {
   "cell_type": "code",
   "execution_count": 2,
   "metadata": {},
   "outputs": [
    {
     "name": "stdout",
     "output_type": "stream",
     "text": [
      "Jogo entre v1 e v2: [0.2960820052793571, 0.7039179947206429]\n",
      "Jogo entre v2 e v3: [0.2960820052793571, 0.7039179947206429]\n",
      "Jogo entre v3 e v1: [0.2960820052793571, 0.7039179947206429]\n"
     ]
    }
   ],
   "source": [
    "v1 = [   1,               0]\n",
    "v2 = [-0.5,  math.sqrt(3)/2]\n",
    "v3 = [-0.5, -math.sqrt(3)/2]\n",
    "\n",
    "print(\"Jogo entre v1 e v2:\", calcula_prob(v1, v2))\n",
    "print(\"Jogo entre v2 e v3:\", calcula_prob(v2, v3))\n",
    "print(\"Jogo entre v3 e v1:\", calcula_prob(v3, v1))"
   ]
  },
  {
   "cell_type": "markdown",
   "metadata": {},
   "source": [
    "Abaixo temos o cálculo da probabilidade com as proficiências $v_1$ e $v_2$, em seguida, tomamos o vetor de probabilidades e calculamos os parâmetros, os quais diferem dos valores iniciais ($v_1$ e $v_2$), mas que, como podemos ver em seguida, geram as mesmas probabilidades."
   ]
  },
  {
   "cell_type": "code",
   "execution_count": 3,
   "metadata": {},
   "outputs": [
    {
     "name": "stdout",
     "output_type": "stream",
     "text": [
      "Probabilidades com p: [0.2960820052793571, 0.7039179947206429]\n",
      "Parâmetros: [[1, -1.2171188181652253], [1, -0.3510934143807867]]\n",
      "Probabilidades os parâmetros encontrados: [0.2960820052793571, 0.7039179947206429]\n"
     ]
    }
   ],
   "source": [
    "p = calcula_prob(v1, v2)\n",
    "param = gera_parametro(p)\n",
    "q = calcula_prob(param[0], param[1])\n",
    "print(\"Probabilidades com p:\", p)\n",
    "print(\"Parâmetros:\", param)\n",
    "print(\"Probabilidades os parâmetros encontrados:\", q)"
   ]
  },
  {
   "cell_type": "markdown",
   "metadata": {},
   "source": [
    "Agora a ideia é buscar fazer a mesma estimação dos parâmetros, mas dando como entrada alguns pares ordenados que representam as probabilidades (ou uma estimativa das mesmas) e com isso gerar os parâmetros."
   ]
  },
  {
   "cell_type": "code",
   "execution_count": null,
   "metadata": {},
   "outputs": [],
   "source": [
    "jogadores = [[A, B], [B, C], [C, A]]\n",
    "probabilidades = [[0.6, 0.4], [0.55, 0.45], [0.7, 0.3]]"
   ]
  },
  {
   "cell_type": "code",
   "execution_count": null,
   "metadata": {},
   "outputs": [],
   "source": []
  },
  {
   "cell_type": "code",
   "execution_count": null,
   "metadata": {},
   "outputs": [],
   "source": []
  }
 ],
 "metadata": {
  "kernelspec": {
   "display_name": "Python 3",
   "language": "python",
   "name": "python3"
  },
  "language_info": {
   "codemirror_mode": {
    "name": "ipython",
    "version": 3
   },
   "file_extension": ".py",
   "mimetype": "text/x-python",
   "name": "python",
   "nbconvert_exporter": "python",
   "pygments_lexer": "ipython3",
   "version": "3.7.3"
  }
 },
 "nbformat": 4,
 "nbformat_minor": 2
}
