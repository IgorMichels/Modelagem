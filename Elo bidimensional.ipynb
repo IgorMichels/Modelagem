{
 "cells": [
  {
   "cell_type": "markdown",
   "metadata": {},
   "source": [
    "# Elo Bidimensional aplicado no Tênis"
   ]
  },
  {
   "cell_type": "markdown",
   "metadata": {},
   "source": [
    "Esse notebook foi elaborado de forma a servir como uma espécie de \"diário\" do processo da modelgem de resultados de tênis utilizando a ideia do Elo Bidimensional."
   ]
  },
  {
   "cell_type": "markdown",
   "metadata": {},
   "source": [
    "O mesmo trás funções que buscam fazer a estimativa das proficiências no tipo $v = [v_1, ~v_2]$ para jogadores de tênis, bem como executar o cálculo da probabilidade de um atleta de proficiência $v = [v_1, ~v_2]$ ganhar de um atleta com proficiência $u = [u_1, ~u_2]$."
   ]
  },
  {
   "cell_type": "markdown",
   "metadata": {},
   "source": [
    "### Primeira Formulação"
   ]
  },
  {
   "cell_type": "markdown",
   "metadata": {},
   "source": [
    "Abaixo temos as funções elaboradas para calcular a probabilidade e, dada tal probabilidade, calcular os pares u e v de proficiência dos atletas. Por enquanto, funciona apenas para o caso em que temos dois atletas."
   ]
  },
  {
   "cell_type": "code",
   "execution_count": 1,
   "metadata": {},
   "outputs": [],
   "source": [
    "import math\n",
    "\n",
    "def calcula_prob(v, u):\n",
    "    # recebe dois vetores v = [v1, v2] e u = [u1, u2]\n",
    "    # retorna um vetor p = [p1, p2] com a prob do jogador 1 ganhar do 2 e do 2 ganhar do 1\n",
    "    p = [0, 0]\n",
    "    p[0] = math.exp(u[0]*v[1])/(math.exp(u[0]*v[1]) + math.exp(u[1]*v[0]))\n",
    "    p[1] = 1 - p[0]\n",
    "    \n",
    "    return p\n",
    "\n",
    "def gera_parametro(p):\n",
    "    # p = [p0, p1], onde p0 = x/(x + y) e p1 = y/(x + y), com x = e^(u0*v1) e y = e^(v0*u1)\n",
    "    # queremos encontrar v = [v0, v1] e u = [u0, u1]\n",
    "    x = math.log(p[0]) # faz x = ln(x) - ln(x + y) = ln(x) = u0*v1\n",
    "    y = math.log(p[1]) # faz y = ln(y) - ln(x + y) = ln(y) = v0*u1\n",
    "    \n",
    "    # considerando u0 = 1 = v0, temos que \n",
    "    u = [1, x]\n",
    "    v = [1, y]\n",
    "    \n",
    "    '''\n",
    "    tentativa de normalizar\n",
    "    \n",
    "    v = [1/math.sqrt(1 + x**2), x/math.sqrt(1 + x**2)]\n",
    "    u = [1/math.sqrt(1 + y**2), y/math.sqrt(1 + y**2)]\n",
    "    '''\n",
    "    \n",
    "    return [u, v]"
   ]
  },
  {
   "cell_type": "markdown",
   "metadata": {},
   "source": [
    "Abaixo definimos 3 proficiências com vetores que formam ângulos de $120^{\\circ}$ entre si. Note que a probabilidade de $v_2$ ganhar de $v_1$ é maior que a de $v_2$ perder para o mesmo. Além disso, a probabilidade de $v_3$ ganhar de $v_2$ é maior que a $v_3$ perder, mas a probabilidade de $v_3$ perder para $v_1$ é maior que a de ganhar de $v_1$, assim, não há linearidade no modelo."
   ]
  },
  {
   "cell_type": "code",
   "execution_count": 2,
   "metadata": {},
   "outputs": [
    {
     "name": "stdout",
     "output_type": "stream",
     "text": [
      "Jogo entre v1 e v2: [0.2960820052793571, 0.7039179947206429]\n",
      "Jogo entre v2 e v3: [0.2960820052793571, 0.7039179947206429]\n",
      "Jogo entre v3 e v1: [0.2960820052793571, 0.7039179947206429]\n"
     ]
    }
   ],
   "source": [
    "v1 = [   1,               0]\n",
    "v2 = [-0.5,  math.sqrt(3)/2]\n",
    "v3 = [-0.5, -math.sqrt(3)/2]\n",
    "\n",
    "print(\"Jogo entre v1 e v2:\", calcula_prob(v1, v2))\n",
    "print(\"Jogo entre v2 e v3:\", calcula_prob(v2, v3))\n",
    "print(\"Jogo entre v3 e v1:\", calcula_prob(v3, v1))"
   ]
  },
  {
   "cell_type": "markdown",
   "metadata": {},
   "source": [
    "Abaixo temos o cálculo da probabilidade com as proficiências $v_1$ e $v_2$, em seguida, tomamos o vetor de probabilidades e calculamos os parâmetros, os quais diferem dos valores iniciais ($v_1$ e $v_2$), mas que, como podemos ver em seguida, geram as mesmas probabilidades."
   ]
  },
  {
   "cell_type": "code",
   "execution_count": 3,
   "metadata": {},
   "outputs": [
    {
     "name": "stdout",
     "output_type": "stream",
     "text": [
      "Probabilidades com p: [0.2960820052793571, 0.7039179947206429]\n",
      "Parâmetros: [[1, -1.2171188181652253], [1, -0.3510934143807867]]\n",
      "Probabilidades os parâmetros encontrados: [0.2960820052793571, 0.7039179947206429]\n"
     ]
    }
   ],
   "source": [
    "p = calcula_prob(v1, v2)\n",
    "param = gera_parametro(p)\n",
    "q = calcula_prob(param[0], param[1])\n",
    "print(\"Probabilidades com p:\", p)\n",
    "print(\"Parâmetros:\", param)\n",
    "print(\"Probabilidades os parâmetros encontrados:\", q)"
   ]
  },
  {
   "cell_type": "markdown",
   "metadata": {},
   "source": [
    "Agora a ideia é buscar fazer a mesma estimação dos parâmetros, mas dando como entrada alguns pares ordenados que representam as probabilidades (ou uma estimativa das mesmas) e com isso gerar os parâmetros."
   ]
  },
  {
   "cell_type": "markdown",
   "metadata": {},
   "source": [
    "Após conversar com os professores Moacyr e Paulo Cezar, foi proposta a modelagem por meio de uma outra função para a probabilidade, como podemos ver abaixo."
   ]
  },
  {
   "cell_type": "markdown",
   "metadata": {},
   "source": [
    "### Nova Formulação"
   ]
  },
  {
   "cell_type": "markdown",
   "metadata": {},
   "source": [
    "Abaixo temos o desenvolvimento das funções que calculam as propabilidades, onde $P(A\\mbox{ ganhar de }B) = \\dfrac{1}{1 + \\exp(-logit)}$, onde $logit = \\dfrac{v_2}{u_1} - \\dfrac{u_2}{v_1}$, além do desenvolvimento da função que calcula o log da verossimilhança negativa, dessa teremos valores positivos, uma vez que o log de cada termo do produtório é negativo, e buscaremos minimizar esse valor."
   ]
  },
  {
   "cell_type": "code",
   "execution_count": 4,
   "metadata": {},
   "outputs": [],
   "source": [
    "import math\n",
    "\n",
    "def calcula_prob(v, u):\n",
    "    # calcula a probabilidade de acordo com a ideia do logit\n",
    "    # recebe dois vetores v = [v1, v2] e u = [u1, u2]\n",
    "    # retorna um vetor p = [p1, p2] com a prob do jogador 1 ganhar do 2 e do 2 ganhar do 1\n",
    "    logit = v[1]/u[0] - u[1]/v[0]\n",
    "    p = [0, 0]\n",
    "    p[0] = 1/(1 + math.exp(-logit))\n",
    "    p[1] = 1 - p[0]\n",
    "    \n",
    "    return p\n",
    "\n",
    "def verossimilhanca(resultados, jogadores):\n",
    "    # faz o cálculo da verossimilhança negativa dado como entrada uma lista\n",
    "    # de resultados e uma lista de parâmetros, conforme abaixo\n",
    "    \n",
    "    # resultados é uma lista de lista/matriz n x 2, onde cada lista/linha\n",
    "    # representa um jogo, sendo da forma [ID_w, ID_l]\n",
    "    # jogadores é a lista de parâmetros dos jogadores, assim parâmetros[0]\n",
    "    # contém os parâmetros do jogador de ID = 0\n",
    "    \n",
    "    log_ver = 0\n",
    "    p = [0, 0]\n",
    "    \n",
    "    for i in range(len(resultados)):\n",
    "        p = calcula_prob(jogadores[resultados[i][0]], jogadores[resultados[i][1]])\n",
    "        log_ver += math.log(p[0])\n",
    "    \n",
    "    return - log_ver"
   ]
  },
  {
   "cell_type": "markdown",
   "metadata": {},
   "source": [
    "Definida as funções, abaixo temos um pequeno teste para ver como a função que calcula as probabilidades está funcionando:"
   ]
  },
  {
   "cell_type": "code",
   "execution_count": 5,
   "metadata": {},
   "outputs": [
    {
     "name": "stdout",
     "output_type": "stream",
     "text": [
      "Jogo entre P1 e P2: [0.2960820052793571, 0.7039179947206429]\n",
      "Jogo entre P2 e P3: [0.030351090329424395, 0.9696489096705756]\n",
      "Jogo entre P3 e P1: [0.2960820052793571, 0.7039179947206429]\n"
     ]
    }
   ],
   "source": [
    "P1 = [   1,               0]\n",
    "P2 = [-0.5,  math.sqrt(3)/2]\n",
    "P3 = [-0.5, -math.sqrt(3)/2]\n",
    "\n",
    "print(\"Jogo entre P1 e P2:\", calcula_prob(P1, P2))\n",
    "print(\"Jogo entre P2 e P3:\", calcula_prob(P2, P3))\n",
    "print(\"Jogo entre P3 e P1:\", calcula_prob(P3, P1))"
   ]
  },
  {
   "cell_type": "markdown",
   "metadata": {},
   "source": [
    "Estranhei o fato de que na abordagem anterior, vista abaixo, esses 3 vetores geravam probabilidades iguais para esses jogos, ou seja, tínhamos $P(P_1\\mbox{ vencer }P_2) = (P_2\\mbox{ vencer }P_3) = (P_3\\mbox{ vencer }P_1)$, o que agora difere."
   ]
  },
  {
   "cell_type": "markdown",
   "metadata": {},
   "source": [
    "Abaixo temos um teste da função que calcula o log da verossimilhança negativa:"
   ]
  },
  {
   "cell_type": "code",
   "execution_count": 6,
   "metadata": {},
   "outputs": [
    {
     "data": {
      "text/plain": [
       "5.959981695062614"
      ]
     },
     "execution_count": 6,
     "metadata": {},
     "output_type": "execute_result"
    }
   ],
   "source": [
    "resultados = [[0, 1], [1, 2], [2, 0], [2, 1]]\n",
    "jogadores = [P1, P2, P3]\n",
    "\n",
    "verossimilhanca(resultados, jogadores)"
   ]
  },
  {
   "cell_type": "markdown",
   "metadata": {},
   "source": [
    "O primeiro elemento da lista de resultados indica que o jogador 0 (P1), ganhou do jogador 1 (P2). O mesmo sendo válido aos demais elementos dessa lista."
   ]
  },
  {
   "cell_type": "markdown",
   "metadata": {},
   "source": [
    "Tendo elaborado a função de verossimilhança, devemos agora buscar os parâmetros dos jogadores que irão minimizar a mesma (lembrando que a função retorna o oposto do log da verossimilhança). Para isso, estou utilizando a função minimize, da biblioteca SciPy, cuja documentação pode ser vista aqui: https://docs.scipy.org/doc/scipy/reference/generated/scipy.optimize.minimize.html"
   ]
  },
  {
   "cell_type": "markdown",
   "metadata": {},
   "source": [
    "Pela documentação, percebi que a função a ser minimizada deve ter um certo padrão em seus parâmetros, sendo que a primeira entrada da função são as variáveis que estamos buscando e as demais são parâmetros fixos. Além disso, a entrada que contém as variáveis deve ser um vetor de uma idimensão, então fiz algumas alterações nas funções elaboradas acima para que respeite essa chamada da função:"
   ]
  },
  {
   "cell_type": "code",
   "execution_count": 7,
   "metadata": {},
   "outputs": [],
   "source": [
    "def calcula_prob(v, u):\n",
    "    # calcula a probabilidade de acordo com a ideia do logit\n",
    "    # recebe dois vetores v = [v1, v2] e u = [u1, u2]\n",
    "    # retorna p, a prob do jogador 1 ganhar do jogador 2\n",
    "    logit = v[1]/u[0] - u[1]/v[0]\n",
    "    \n",
    "    # coloquei esse try pois tem vezes que essa exponencial resulta em um valor muito grande\n",
    "    # gerando o OverflowError\n",
    "    try:\n",
    "        p = 1/(1 + math.exp(-logit))\n",
    "    except OverflowError:\n",
    "        p = float(1e-31)\n",
    "    \n",
    "    return p\n",
    "\n",
    "def verossimilhanca(jogadores, resultados):\n",
    "    # faz o cálculo da verossimilhança negativa dado como entrada uma lista\n",
    "    # de resultados e uma lista de parâmetros, conforme abaixo\n",
    "    \n",
    "    # jogadores é a lista de parâmetros dos jogadores. Nela os parâmetros\n",
    "    # do jogador de ID = i estão em parâmetros[2*i] e em parâmetros[2*i + 1]\n",
    "    # resultados é uma lista de lista/matriz n x 2, onde cada lista/linha\n",
    "    # representa um jogo, sendo da forma [ID_w, ID_l]\n",
    "    \n",
    "    log_ver = 0\n",
    "    \n",
    "    for i in range(len(resultados)):\n",
    "        indice_1 = 2*resultados[i][0]\n",
    "        indice_2 = 2*resultados[i][1]\n",
    "        param_1 = [jogadores[indice_1], jogadores[indice_1 + 1]]\n",
    "        param_2 = [jogadores[indice_2], jogadores[indice_2 + 1]]\n",
    "        p = calcula_prob(param_1, param_2)\n",
    "        log_ver += math.log(p)\n",
    "    \n",
    "    return - log_ver"
   ]
  },
  {
   "cell_type": "markdown",
   "metadata": {},
   "source": [
    "Feita tais alterações nas funções, devemos alterar as entradas da função para ficar conforme a função que temos nesse momento."
   ]
  },
  {
   "cell_type": "code",
   "execution_count": 8,
   "metadata": {},
   "outputs": [
    {
     "data": {
      "text/plain": [
       "5.959981695062614"
      ]
     },
     "execution_count": 8,
     "metadata": {},
     "output_type": "execute_result"
    }
   ],
   "source": [
    "resultados = [[0, 1], [1, 2], [2, 0], [2, 1]]\n",
    "jogadores = [1, 0, -0.5, math.sqrt(3)/2, -0.5, -math.sqrt(3)/2]\n",
    "\n",
    "verossimilhanca(jogadores, resultados)"
   ]
  },
  {
   "cell_type": "markdown",
   "metadata": {},
   "source": [
    "Agora podemos utilizar o minimizador, o qual buscará o vetor jogadores que minimiza a função de verossimilhança. Como temos a restrição de que o primeiro parâmetro de cada jogador é positivo, vou utilizar o método SLSQP para encontrar os parâmetros que minimizam a verossimilhança. Para isso, vamos primeiramente definir quais são as restrições:"
   ]
  },
  {
   "cell_type": "code",
   "execution_count": 9,
   "metadata": {},
   "outputs": [],
   "source": [
    "cons = ({'type': 'ineq', 'fun': lambda par_jogadores: par_jogadores[0]},\n",
    "        {'type': 'ineq', 'fun': lambda par_jogadores: par_jogadores[2]},\n",
    "        {'type': 'ineq', 'fun': lambda par_jogadores: par_jogadores[4]})"
   ]
  },
  {
   "cell_type": "markdown",
   "metadata": {},
   "source": [
    "Ainda preciso encontrar uma forma mais esperta para fazer essas restrições, pois fazer na mão para 3 atletas é simples, mas para um grande número de atletas fica complicado."
   ]
  },
  {
   "cell_type": "markdown",
   "metadata": {},
   "source": [
    "Definida tais restrições, vamos minimizar a função:"
   ]
  },
  {
   "cell_type": "code",
   "execution_count": 10,
   "metadata": {},
   "outputs": [],
   "source": [
    "from scipy.optimize import minimize\n",
    "\n",
    "results = minimize(verossimilhanca, jogadores, args = resultados, method = 'SLSQP', constraints = cons)"
   ]
  },
  {
   "cell_type": "markdown",
   "metadata": {},
   "source": [
    "Normalizando o vetor jogadores de forma que o menor valor, em módulo, seja igual a $1$, temos:"
   ]
  },
  {
   "cell_type": "code",
   "execution_count": 11,
   "metadata": {},
   "outputs": [
    {
     "name": "stdout",
     "output_type": "stream",
     "text": [
      "Os parâmetros encontrados são:\n",
      " [505.70472945 251.77736851  40.77817833 -42.68048805 551.18195062\n",
      "   1.        ]\n"
     ]
    }
   ],
   "source": [
    "results.x = results.x * (1/min(abs(results.x)))\n",
    "print(\"Os parâmetros encontrados são:\\n\", results.x)"
   ]
  },
  {
   "cell_type": "markdown",
   "metadata": {},
   "source": [
    "Olhando para a verossimilhança gerada pelos mesmos, temos:"
   ]
  },
  {
   "cell_type": "code",
   "execution_count": 12,
   "metadata": {},
   "outputs": [
    {
     "data": {
      "text/plain": [
       "2.3369976685748237"
      ]
     },
     "execution_count": 12,
     "metadata": {},
     "output_type": "execute_result"
    }
   ],
   "source": [
    "results.fun"
   ]
  },
  {
   "cell_type": "markdown",
   "metadata": {},
   "source": [
    "Fazendo outro teste, agora com outro vetor inicial e construindo a restrição com um loop for, temos:"
   ]
  },
  {
   "cell_type": "code",
   "execution_count": 13,
   "metadata": {},
   "outputs": [],
   "source": [
    "cons = []\n",
    "jogadores = []\n",
    "for i in range(3):\n",
    "    cons.append({'type': 'ineq', 'fun': lambda par_jogadores: par_jogadores[2*i]})\n",
    "    jogadores.append(1)\n",
    "    jogadores.append(0)"
   ]
  },
  {
   "cell_type": "code",
   "execution_count": 14,
   "metadata": {},
   "outputs": [],
   "source": [
    "cons = tuple(cons)"
   ]
  },
  {
   "cell_type": "code",
   "execution_count": 15,
   "metadata": {},
   "outputs": [],
   "source": [
    "results = minimize(verossimilhanca, jogadores, args = resultados, method = 'SLSQP', constraints = cons)"
   ]
  },
  {
   "cell_type": "code",
   "execution_count": 16,
   "metadata": {},
   "outputs": [
    {
     "data": {
      "text/plain": [
       "array([ 2.99009532e-06,  1.69032020e-07,  1.67042410e+00, -3.08439143e-01,\n",
       "        1.67042279e+00,  3.08440896e-01])"
      ]
     },
     "execution_count": 16,
     "metadata": {},
     "output_type": "execute_result"
    }
   ],
   "source": [
    "results.x"
   ]
  },
  {
   "cell_type": "code",
   "execution_count": 17,
   "metadata": {},
   "outputs": [
    {
     "data": {
      "text/plain": [
       "1.4201971731668042"
      ]
     },
     "execution_count": 17,
     "metadata": {},
     "output_type": "execute_result"
    }
   ],
   "source": [
    "results.fun"
   ]
  },
  {
   "cell_type": "markdown",
   "metadata": {},
   "source": [
    "Note que o mínimo encontrado difere do mínimo encontrado anteriormente."
   ]
  },
  {
   "cell_type": "markdown",
   "metadata": {},
   "source": [
    "#### Testando com os dados obtidos"
   ]
  },
  {
   "cell_type": "markdown",
   "metadata": {},
   "source": [
    "Primeiramente, vou definir algumas funções para facilitar na definição dos parâmetros do minimizador:"
   ]
  },
  {
   "cell_type": "code",
   "execution_count": 22,
   "metadata": {},
   "outputs": [],
   "source": [
    "from openpyxl import load_workbook\n",
    "import numpy as np\n",
    "\n",
    "def pega_jogos(file):\n",
    "    games = load_workbook(file)\n",
    "\n",
    "    jogos = games['Planilha1']\n",
    "\n",
    "    resultados = []\n",
    "\n",
    "    for row in jogos.iter_rows():\n",
    "        jogo = []\n",
    "        for cell in row:\n",
    "            if cell.value != 'w' and cell.value != 'l':\n",
    "                jogo.append(cell.value)\n",
    "        resultados.append(jogo)\n",
    "    \n",
    "    if resultados[0] == []:\n",
    "        resultados.pop(0)\n",
    "    return resultados\n",
    "\n",
    "def conta_jogadores(resultados):\n",
    "    contagem = 0\n",
    "    for i in range(len(resultados)):\n",
    "        for j in resultados[i]:\n",
    "            if j > contagem:\n",
    "                contagem = j\n",
    "    \n",
    "    return contagem + 1\n",
    "\n",
    "def cria_restricoes(contagem):\n",
    "    restricoes = []\n",
    "    for i in range(contagem):\n",
    "        restricoes.append({'type': 'ineq', 'fun': lambda par_jogadores: par_jogadores[2*i]})\n",
    "    \n",
    "    restricoes = tuple(restricoes)\n",
    "    return restricoes\n",
    "\n",
    "def cria_jogadores(contagem):\n",
    "    jogadores = []\n",
    "    for i in range(contagem):\n",
    "        jogadores.append(np.random.random())\n",
    "        jogadores.append(np.random.random())\n",
    "    \n",
    "    return jogadores\n",
    "\n",
    "def calcula_parametros(file):\n",
    "    resultados = pega_jogos(file)\n",
    "    contagem = conta_jogadores(resultados)\n",
    "    cons = cria_restricoes(contagem)\n",
    "    jogadores = cria_jogadores(contagem)\n",
    "    results = minimize(verossimilhanca, jogadores, args = resultados, method = 'SLSQP', constraints = cons)\n",
    "    \n",
    "    return results"
   ]
  },
  {
   "cell_type": "markdown",
   "metadata": {},
   "source": [
    "Agora, vou utilizar a função calcula_parametros para gerar os parâmetros dos jogadores:"
   ]
  },
  {
   "cell_type": "code",
   "execution_count": 28,
   "metadata": {},
   "outputs": [],
   "source": [
    "results = calcula_parametros('matches.xlsx')"
   ]
  },
  {
   "cell_type": "markdown",
   "metadata": {},
   "source": [
    "Onde obtemos o seguinte valor de mínimo:"
   ]
  },
  {
   "cell_type": "code",
   "execution_count": 29,
   "metadata": {},
   "outputs": [
    {
     "data": {
      "text/plain": [
       "20300.864333136815"
      ]
     },
     "execution_count": 29,
     "metadata": {},
     "output_type": "execute_result"
    }
   ],
   "source": [
    "results.fun"
   ]
  }
 ],
 "metadata": {
  "kernelspec": {
   "display_name": "Python 3",
   "language": "python",
   "name": "python3"
  },
  "language_info": {
   "codemirror_mode": {
    "name": "ipython",
    "version": 3
   },
   "file_extension": ".py",
   "mimetype": "text/x-python",
   "name": "python",
   "nbconvert_exporter": "python",
   "pygments_lexer": "ipython3",
   "version": "3.7.3"
  }
 },
 "nbformat": 4,
 "nbformat_minor": 2
}
